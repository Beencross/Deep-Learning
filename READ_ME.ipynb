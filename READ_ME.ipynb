{
 "cells": [
  {
   "cell_type": "markdown",
   "metadata": {
    "id": "Gq14Rk-vOF9_"
   },
   "source": [
    "### **Competition Name** : Recursion Cellular Image Classification Cell Signal\n",
    "\n",
    "\n",
    "Work done by **MERASLI Benjamin and DABBOUS Tala**\n"
   ]
  },
  {
   "cell_type": "markdown",
   "metadata": {
    "id": "S0lA2McVPVZ4"
   },
   "source": [
    "# **Competition Objective :** \n",
    "\n",
    "The main goal is to understand how drugs interact with human cells, and to  improve the industry’s ability to model cellular images according to their relevant biology. \n",
    "\n",
    "This AI application could greatly decrease the cost of treatments, and ensure that these treatments get to patients faster.\n",
    "It is necessary to eliminate  the noise introduced by the technical execution and environmental variation between experiments.\n",
    "\n",
    "This dataset challenges to develop a model that identifies replicates that are robust to experimental noise.\n",
    "\n",
    "\n"
   ]
  },
  {
   "cell_type": "markdown",
   "metadata": {
    "id": "1Ia_X_iPaAKW"
   },
   "source": [
    "# **Data Source :**\n",
    "\n",
    "The Recursion Cellular Image Classification competition classify images of cells in the RxRx1 dataset, which consists of 125,510 six-channel fluorescent microscopy images of cells across 1,108 different genetic perturbations in four different cell lines. Importantly, RxRx1 was generated in 51 different batches, or repeats of the same experimental design, and competitors were given the images from 33 of these batches for training their models, while the images from the other 18 batches were held out for testing those models.\n",
    "\n"
   ]
  },
  {
   "cell_type": "markdown",
   "metadata": {
    "id": "NwTLTBlmbLO0"
   },
   "source": [
    "## Data pre-processing & Data augmentation : \n",
    "\n",
    "\n",
    "\n",
    "*   Loading original images (512x512)\n",
    "\n",
    "*   HUVEC-18 is moved to the training set (known leak)\n",
    "\n",
    "*   For training, all control images (also these from the test set) are used in the same way as non-control images\n",
    "\n",
    "\n",
    "*   Normalizing each image channel to N(0, 1)\n",
    "\n",
    "*   Random horizontal and vertical flip, and 90 degrees rotation\n",
    "\n",
    "*   Random resized crop preserving aspect with scale ~ uniform(0.5, 1) using nearest-neighbor interpolation\n",
    "\n",
    "*   Training augmentations\n",
    "\n",
    "\n",
    "*   For each channel: channel = channel * a + b, where a ~ N(1, 0.1), b ~ N(0, 0.1)\n",
    "\n",
    "*   Test-time augmentations\n",
    "\n",
    "*   Horizontal and vertical flip, and 90 degrees rotation\n",
    "\n",
    "\n"
   ]
  },
  {
   "cell_type": "markdown",
   "metadata": {
    "id": "5C2KMG8xlh4b"
   },
   "source": [
    "## **Training** : \n",
    "\n",
    "Batch size: 24 (48 with gradient accumulation)\n",
    "\n",
    "*   Batch size: 24 (48 with gradient accumulation)\n",
    "\n",
    "*   Optimizer: Adam\n",
    "\n",
    "*   Weight decay: 1e-5\n",
    "\n",
    "*   Cutmix\n",
    "\n",
    "\n",
    "*   Loss = ArcFaceLoss / 2 * 0.2 + SoftmaxCrossEntropyLoss * 0.8\n",
    "(ArcFaceLoss is divided by 2 to more or less preserve magnitude between losses)\n",
    "\n",
    "\n",
    "*   90 epochs\n",
    "\n",
    "*   Learning rate: 1.5e-4 with cosine scheduling\n"
   ]
  },
  {
   "cell_type": "markdown",
   "metadata": {
    "id": "kUIHMpFvmpBj"
   },
   "source": [
    "  ArcFaceLoss : Additive Angular Margin Loss for Deep Face Recognition\n",
    "\n",
    "\n",
    "![image.png](data:image/png;base64,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)"
   ]
  },
  {
   "cell_type": "markdown",
   "metadata": {
    "id": "H7yvBI_2mSsC"
   },
   "source": [
    "# **Difficulties :**\n",
    "\n",
    "\n",
    "*   \"controls\" sets in datasets : meaning and what is it used for \n",
    "*   ArcFaceLoss : meaning and interpretation of the loss function \n",
    "*   A lot of lines of code to comment\n",
    "*   Impossible to see the outputs: too much execution time on our laptops\n",
    "\n",
    "\n"
   ]
  },
  {
   "cell_type": "code",
   "execution_count": null,
   "metadata": {
    "id": "_gVMUvjsl-2d"
   },
   "outputs": [],
   "source": []
  }
 ],
 "metadata": {
  "colab": {
   "collapsed_sections": [],
   "name": "READ_ME.ipynb",
   "provenance": []
  },
  "kernelspec": {
   "display_name": "Python 3",
   "language": "python",
   "name": "python3"
  },
  "language_info": {
   "codemirror_mode": {
    "name": "ipython",
    "version": 3
   },
   "file_extension": ".py",
   "mimetype": "text/x-python",
   "name": "python",
   "nbconvert_exporter": "python",
   "pygments_lexer": "ipython3",
   "version": "3.7.3"
  }
 },
 "nbformat": 4,
 "nbformat_minor": 1
}
